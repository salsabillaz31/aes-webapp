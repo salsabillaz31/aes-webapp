{
 "cells": [
  {
   "cell_type": "code",
   "execution_count": 2,
   "id": "8b345f54",
   "metadata": {},
   "outputs": [],
   "source": [
    "from dotenv import load_dotenv\n",
    "import os\n",
    "import openai\n",
    "import json\n",
    "from groq import Groq"
   ]
  },
  {
   "cell_type": "code",
   "execution_count": 3,
   "id": "e4ff63a3",
   "metadata": {},
   "outputs": [],
   "source": [
    "load_dotenv()\n",
    "client = Groq(api_key=os.getenv(\"GROQ_API_KEY\"))\n"
   ]
  },
  {
   "cell_type": "code",
   "execution_count": 4,
   "id": "61f0bff4",
   "metadata": {},
   "outputs": [],
   "source": [
    "def create_aes_prompt(question, answer):\n",
    "    return f\"\"\"\n",
    "Anda adalah penilai esai otomatis untuk ujian kompetensi Data Scientist. Tugas Anda adalah menilai jawaban mahasiswa berdasarkan pertanyaan dan kualitas isi jawaban.\n",
    "\n",
    "Gunakan rubrik penilaian berikut (Skala 0–5):\n",
    "\n",
    "- Skor 0: Jawaban kosong atau tidak relevan dengan pertanyaan, meskipun panjang.\n",
    "- Skor 1: Mengandung satu atau lebih keyword, tetapi penjelasan tidak jelas, tidak terstruktur, dan tidak menunjukkan pemahaman. Jawaban cenderung acak.\n",
    "- Skor 2: Mengandung beberapa keyword penting tetapi belum menunjukkan penguasaan materi. Penjelasan masih terbatas dan belum membentuk pengertian utuh.\n",
    "- Skor 3: Jawaban tepat dan sesuai inti konsep, namun terlalu umum atau masih kurang dari segi penjelasan tambahan. Bisa menjawab dengan baik, tetapi masih kurang satu dua aspek penting.\n",
    "- Skor 4: Jawaban tepat, cukup lengkap, mengandung hampir semua keyword penting dan tidak keluar dari konteks. Cocok untuk pertanyaan yang membutuhkan penjabaran lebih luas.\n",
    "- Skor 5: Jawaban tepat, lengkap, dan efisien. Mengandung seluruh keyword penting dan menjawab secara langsung sesuai cakupan pertanyaan, tanpa keluar dari topik. Tidak diukur dari panjangnya, tapi dari akurasi dan kelengkapan inti konsep.\n",
    "\n",
    "--- \n",
    "Pertanyaan:\n",
    "{question}\n",
    "\n",
    "Jawaban Mahasiswa:\n",
    "{answer}\n",
    "---\n",
    "\n",
    "Tugas Anda:\n",
    "Berdasarkan rubrik di atas, berikan penilaian dalam format berikut:\n",
    "\n",
    "Skor: [0-5]  \n",
    "Alasan Penilaian: [tuliskan alasannya dengan jelas]\n",
    "\"\"\""
   ]
  },
  {
   "cell_type": "code",
   "execution_count": 5,
   "id": "6bfef519",
   "metadata": {},
   "outputs": [],
   "source": [
    "def create_aes_prompt_fewshot(question, answer):\n",
    "    examples = [\n",
    "        {\n",
    "            \n",
    "            \"question\": \"Apa yang dimaksud dengan Knowledge Discovery in Databases (KDD)?\",\n",
    "            \"answer\": \"Proses Knowledge Discovery in Databases (KDD) melibatkan beberapa tahapan utama: (1) Seleksi Data, yaitu pemilihan data yang relevan dari sumber yang besar, (2) Preprocessing atau pembersihan data untuk menghilangkan noise dan data yang tidak konsisten, (3) Transformasi data agar sesuai untuk analisis, (4) Data Mining, yaitu proses utama dalam menemukan pola atau informasi yang bermanfaat, dan (5) Evaluasi dan interpretasi hasil untuk memastikan pola yang ditemukan memiliki nilai yang bermakna.\",\n",
    "            \"score\": 0\n",
    "        },\n",
    "        {\n",
    "            \n",
    "            \"question\": \"Apa yang dimaksud dengan Knowledge Discovery in Databases (KDD)?\",\n",
    "            \"answer\": \"KDD itu sesuatu yang berkaitan dengan data.\",\n",
    "            \"score\": 1\n",
    "        },\n",
    "        {\n",
    "            \"question\": \"Apa yang dimaksud dengan Knowledge Discovery in Databases (KDD)?\",\n",
    "            \"answer\": \"KDD adalah proses dalam data science yang digunakan untuk mendapatkan informasi.\",\n",
    "            \"score\": 2\n",
    "        },\n",
    "        {\n",
    "            \"question\": \"Apa yang dimaksud dengan Knowledge Discovery in Databases (KDD)?\",\n",
    "            \"answer\": \"KDD adalah proses untuk menemukan pola atau informasi dalam database yang besar.\",\n",
    "            \"score\": 3\n",
    "        },\n",
    "        {\n",
    "            \"question\": \"Apa yang dimaksud dengan Knowledge Discovery in Databases (KDD)?\",\n",
    "            \"answer\": \"KDD adalah proses menemukan pola atau informasi penting dalam database yang besar melalui beberapa tahapan, seperti preprocessing dan data mining.\",\n",
    "            \"score\": 4\n",
    "        },\n",
    "        {\n",
    "            \"question\": \"Jelaskan perbedaan supervised dan unsupervised learning.\",\n",
    "            \"answer\": \"Knowledge Discovery in Databases (KDD) adalah proses ekstraksi informasi atau pola yang berguna dari kumpulan data dalam database besar. Proses ini terdiri dari beberapa tahapan utama, yaitu seleksi data, preprocessing, transformasi, data mining, dan interpretasi/evaluasi hasil.\",\n",
    "            \"score\": 5\n",
    "        }\n",
    "    ]\n",
    "\n",
    "    fewshot_part = \"\\n\".join([\n",
    "        f\"\"\"Pertanyaan: {ex[\"question\"]}\n",
    "Jawaban: {ex[\"answer\"]}\n",
    "Skor: {ex[\"score\"]}\\n\"\"\"\n",
    "        for ex in examples\n",
    "    ])\n",
    "\n",
    "    instruction = f\"\"\"\n",
    "Anda adalah asisten penilai esai otomatis untuk kompetensi Data Scientist.\n",
    "Tugas Anda adalah memberikan skor 0 sampai 5 berdasarkan rubrik berikut:\n",
    "\n",
    "- Skor 0: Jawaban kosong atau tidak relevan.\n",
    "- Skor 1: Mengandung keyword, tetapi penjelasan acak/tidak jelas.\n",
    "- Skor 2: Beberapa keyword penting, belum membentuk pemahaman utuh.\n",
    "- Skor 3: Sesuai konsep tapi terlalu umum/kurang aspek penting.\n",
    "- Skor 4: Jawaban tepat dan lengkap, hampir semua keyword penting.\n",
    "- Skor 5: Lengkap, fokus, semua keyword penting, tidak keluar konteks.\n",
    "\n",
    "Berikan hanya JSON dengan format:\n",
    "{{\"skor\": int, \"alasan\": string}}\n",
    "\n",
    "Berikut beberapa contoh:\n",
    "\n",
    "{fewshot_part}\n",
    "\n",
    "Sekarang nilai jawaban berikut:\n",
    "\n",
    "Pertanyaan: {question}\n",
    "Jawaban: {answer}\n",
    "\n",
    "Jawaban JSON:\n",
    "\"\"\"\n",
    "    return instruction.strip()\n"
   ]
  },
  {
   "cell_type": "code",
   "execution_count": 6,
   "id": "525eb325",
   "metadata": {},
   "outputs": [],
   "source": [
    "def get_llama_score(question, answer):\n",
    "    prompt = create_aes_prompt_fewshot(question, answer)\n",
    "\n",
    "    response = client.chat.completions.create(\n",
    "        model=\"meta-llama/llama-4-scout-17b-16e-instruct\",\n",
    "        messages=[\n",
    "            {\"role\": \"user\", \"content\": prompt}\n",
    "        ],\n",
    "        temperature=0.2,\n",
    "    )\n",
    "\n",
    "    return response.choices[0].message.content"
   ]
  },
  {
   "cell_type": "code",
   "execution_count": 7,
   "id": "9e1e5218",
   "metadata": {},
   "outputs": [
    {
     "name": "stdout",
     "output_type": "stream",
     "text": [
      "=== HASIL PENILAIAN ===\n",
      "{\"skor\": 0, \"alasan\": \"Jawaban kosong atau tidak relevan\"}\n"
     ]
    }
   ],
   "source": [
    "# Untuk testing langsung\n",
    "if __name__ == \"__main__\":\n",
    "    question = \"Jelaskan proses yang terlibat dalam KDD.\"\n",
    "    answer = \"tidak tau\"\n",
    "\n",
    "    result = get_llama_score(question, answer)\n",
    "    print(\"=== HASIL PENILAIAN ===\")\n",
    "    print(result)"
   ]
  },
  {
   "cell_type": "code",
   "execution_count": null,
   "id": "40ab1772",
   "metadata": {},
   "outputs": [],
   "source": []
  },
  {
   "cell_type": "code",
   "execution_count": null,
   "id": "04c36c41",
   "metadata": {},
   "outputs": [],
   "source": []
  },
  {
   "cell_type": "code",
   "execution_count": null,
   "id": "cb510643",
   "metadata": {},
   "outputs": [],
   "source": []
  }
 ],
 "metadata": {
  "kernelspec": {
   "display_name": "aes",
   "language": "python",
   "name": "python3"
  },
  "language_info": {
   "codemirror_mode": {
    "name": "ipython",
    "version": 3
   },
   "file_extension": ".py",
   "mimetype": "text/x-python",
   "name": "python",
   "nbconvert_exporter": "python",
   "pygments_lexer": "ipython3",
   "version": "3.13.3"
  }
 },
 "nbformat": 4,
 "nbformat_minor": 5
}
