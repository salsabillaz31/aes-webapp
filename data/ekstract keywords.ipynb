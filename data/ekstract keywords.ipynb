{
 "cells": [
  {
   "cell_type": "code",
   "execution_count": 1,
   "id": "de62426f",
   "metadata": {},
   "outputs": [],
   "source": [
    "import pandas as pd\n",
    "import re"
   ]
  },
  {
   "cell_type": "code",
   "execution_count": 2,
   "id": "4af50687",
   "metadata": {},
   "outputs": [],
   "source": [
    "# Baca data\n",
    "df = pd.read_excel('dataset 1.2.xlsx')  # atau pd.read_excel(input_file)"
   ]
  },
  {
   "cell_type": "code",
   "execution_count": 3,
   "id": "1c64eb68",
   "metadata": {},
   "outputs": [],
   "source": [
    "\n",
    "# Fungsi pembersih teks\n",
    "def clean_text(text):\n",
    "    text = str(text).strip()\n",
    "    text = re.sub(r'[^\\w\\s]', '', text)  # hapus tanda baca\n",
    "    return text"
   ]
  },
  {
   "cell_type": "code",
   "execution_count": 4,
   "id": "f02e9b6b",
   "metadata": {},
   "outputs": [],
   "source": [
    "# Pastikan kolom yang dibutuhkan tersedia\n",
    "required_cols = [\"id_question\", \"Questions\", \"Keywords\"]\n",
    "missing_cols = [col for col in required_cols if col not in df.columns]\n",
    "assert not missing_cols, f\"Kolom berikut tidak ditemukan: {missing_cols}\"\n"
   ]
  },
  {
   "cell_type": "code",
   "execution_count": 5,
   "id": "974af211",
   "metadata": {},
   "outputs": [],
   "source": [
    "# Buat struktur dictionary\n",
    "questions_keywords = {}\n",
    "for _, row in df.iterrows():\n",
    "    id_q = str(row[\"id_question\"]).strip()\n",
    "    question_text = clean_text(row[\"Questions\"])\n",
    "    keywords = [clean_text(kw) for kw in str(row[\"Keywords\"]).split(\",\") if kw.strip()]\n",
    "    \n",
    "    questions_keywords[id_q] = {\n",
    "        \"question\": question_text,\n",
    "        \"keywords\": keywords\n",
    "    }"
   ]
  },
  {
   "cell_type": "code",
   "execution_count": 6,
   "id": "29bc168b",
   "metadata": {},
   "outputs": [
    {
     "name": "stdout",
     "output_type": "stream",
     "text": [
      "✅ File 'questions_keywords.py' berhasil dibuat dengan pembersihan teks.\n"
     ]
    }
   ],
   "source": [
    "# Simpan ke file .py\n",
    "with open(\"questions_keywords.py\", \"w\", encoding=\"utf-8\") as f:\n",
    "    f.write(\"questions_keywords = {\\n\")\n",
    "    for k, v in questions_keywords.items():\n",
    "        question = v[\"question\"].replace('\"', '\\\\\"')\n",
    "        keyword_list = \", \".join(f'\"{kw}\"' for kw in v[\"keywords\"])\n",
    "        f.write(f'    \"{k}\": {{\\n')\n",
    "        f.write(f'        \"question\": \"{question}\",\\n')\n",
    "        f.write(f'        \"keywords\": [{keyword_list}]\\n')\n",
    "        f.write('    },\\n')\n",
    "    f.write(\"}\\n\")\n",
    "\n",
    "print(\"✅ File 'questions_keywords.py' berhasil dibuat dengan pembersihan teks.\")"
   ]
  },
  {
   "cell_type": "code",
   "execution_count": null,
   "id": "e0e7fabe",
   "metadata": {},
   "outputs": [],
   "source": []
  }
 ],
 "metadata": {
  "kernelspec": {
   "display_name": "aes",
   "language": "python",
   "name": "python3"
  },
  "language_info": {
   "codemirror_mode": {
    "name": "ipython",
    "version": 3
   },
   "file_extension": ".py",
   "mimetype": "text/x-python",
   "name": "python",
   "nbconvert_exporter": "python",
   "pygments_lexer": "ipython3",
   "version": "3.13.3"
  }
 },
 "nbformat": 4,
 "nbformat_minor": 5
}
